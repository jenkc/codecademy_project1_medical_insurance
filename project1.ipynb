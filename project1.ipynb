{
 "cells": [
  {
   "cell_type": "markdown",
   "metadata": {},
   "source": [
    "# U.S. Medical Insurance Costs"
   ]
  },
  {
   "cell_type": "markdown",
   "metadata": {},
   "source": [
    "TASK: Import your dataset via Python variables"
   ]
  },
  {
   "cell_type": "markdown",
   "metadata": {},
   "source": [
    "Import insurance.cvs into your Python file."
   ]
  },
  {
   "cell_type": "markdown",
   "metadata": {},
   "source": [
    "Fill a list of dictionaries, one for each element in the list."
   ]
  },
  {
   "cell_type": "code",
   "execution_count": 1,
   "metadata": {},
   "outputs": [],
   "source": [
    "import csv\n",
    "ins_dicts = []\n",
    "with open('insurance.csv') as insurance_csv:\n",
    "    insurance_reader = csv.DictReader(insurance_csv)\n",
    "    for row in insurance_reader:\n",
    "        ins_dicts.append(dict(row)) "
   ]
  },
  {
   "cell_type": "markdown",
   "metadata": {},
   "source": [
    "Test function below (to transfer to class method once I figure out how I should use self here):"
   ]
  },
  {
   "cell_type": "code",
   "execution_count": 2,
   "metadata": {},
   "outputs": [],
   "source": [
    "def average_age(list_of_dictionaries):\n",
    "    sum_of_ages = 0\n",
    "    length_of_list = len(list_of_dictionaries)\n",
    "    for entry in list_of_dictionaries:\n",
    "        sum_of_ages += int(entry['age'])\n",
    "    average_age = sum_of_ages / length_of_list\n",
    "    print(average_age)"
   ]
  },
  {
   "cell_type": "markdown",
   "metadata": {},
   "source": [
    "Note: all values in the csv are strings, even numbers!!!"
   ]
  },
  {
   "cell_type": "markdown",
   "metadata": {},
   "source": [
    "Testing the test function:"
   ]
  },
  {
   "cell_type": "code",
   "execution_count": 3,
   "metadata": {
    "scrolled": true
   },
   "outputs": [
    {
     "name": "stdout",
     "output_type": "stream",
     "text": [
      "39.20702541106129\n"
     ]
    }
   ],
   "source": [
    "average_age(ins_dicts)"
   ]
  },
  {
   "cell_type": "markdown",
   "metadata": {},
   "source": [
    "TASK: Build out analysis functions or class methods."
   ]
  },
  {
   "cell_type": "markdown",
   "metadata": {},
   "source": [
    "Create an Insurance class with methods for the dictionary."
   ]
  },
  {
   "cell_type": "code",
   "execution_count": 28,
   "metadata": {},
   "outputs": [],
   "source": [
    "class Insurance:\n",
    "    def __init__(self):\n",
    "        self.dicts = ins_dicts\n",
    "        self.total_all = len(self.dicts)\n",
    "    \n",
    "    # average age of all patients    \n",
    "    def average_age(self):\n",
    "        sum_of_ages = 0\n",
    "        length_of_list = self.total_all\n",
    "        for entry in self.dicts:\n",
    "            sum_of_ages += int(entry['age'])\n",
    "        average_age = round(sum_of_ages / length_of_list, 2)\n",
    "        print('Average age of all patients: {age}'.format(age=average_age))\n",
    "    \n",
    "    # average age of female patients    \n",
    "    def average_age_female(self):\n",
    "        sum_of_ages_female = 0\n",
    "        total_female = 0\n",
    "        for entry in self.dicts:\n",
    "            if entry['sex'] == 'female':\n",
    "                sum_of_ages_female += int(entry['age'])\n",
    "                total_female += 1\n",
    "        average_age = round(sum_of_ages_female / total_female, 2)\n",
    "        print('Average age of female patients: {age}'.format(age=average_age))\n",
    "    \n",
    "    # average age of male patients\n",
    "    def average_age_male(self):\n",
    "        sum_of_ages_male = 0\n",
    "        total_male = 0\n",
    "        for entry in self.dicts:\n",
    "            if entry['sex'] == 'male':\n",
    "                sum_of_ages_male += int(entry['age'])\n",
    "                total_male += 1\n",
    "        average_age = round(sum_of_ages_male / total_male, 2)\n",
    "        print('Average age of male patients: {age}'.format(age=average_age))\n",
    "    \n",
    "    # region reported by the greatest number of patients \n",
    "    def most_common_region(self):\n",
    "        northeast_count = 0\n",
    "        northwest_count = 0\n",
    "        southeast_count = 0\n",
    "        southwest_count = 0\n",
    "        region = ''\n",
    "        for entry in self.dicts:\n",
    "            if entry['region'] == 'northeast':\n",
    "                northeast_count += 1\n",
    "            elif entry['region'] == 'northwest':\n",
    "                northwest_count += 1\n",
    "            elif entry['region'] == 'southeast':\n",
    "                southeast_count += 1\n",
    "            elif entry['region'] == 'southwest':\n",
    "                southwest_count += 1\n",
    "        max_region = max(northeast_count, northwest_count, southeast_count, southwest_count)\n",
    "        if max_region == northeast_count:\n",
    "            region = 'Northeast'\n",
    "        elif max_region == northwest_count:\n",
    "            region = 'Northwest'\n",
    "        elif max_region == southeast_count:\n",
    "            region = 'Southeast'\n",
    "        elif max_region == southwest_count:\n",
    "            region = 'Southwest'\n",
    "        print('Most commonly reported region: {region}'.format(region=region))\n",
    "    \n",
    "    # percentage of patients who are smokers\n",
    "    def percentage_smokers(self):\n",
    "        total_smokers = 0\n",
    "        for entry in self.dicts:\n",
    "            if entry['smoker'] == 'yes':\n",
    "                total_smokers += 1\n",
    "        percentage = round(total_smokers / self.total_all, 4) * 100\n",
    "        print('Patients who are smokers: {percentage} %'.format(percentage=percentage))\n",
    "    \n",
    "    # percentage of female patients who are smokers\n",
    "    def percentage_smokers_female(self):\n",
    "        total_females = 0\n",
    "        total_smokers_female = 0\n",
    "        for entry in self.dicts:\n",
    "            if entry['sex'] == 'female':\n",
    "                total_females += 1\n",
    "                if entry['smoker'] == 'yes':\n",
    "                    total_smokers_female += 1\n",
    "        percentage = round(total_smokers_female / total_females, 4) * 100\n",
    "        print('Female patients who are smokers: {percentage} %'.format(percentage=percentage))\n",
    "    \n",
    "    # percentage of male patients who are smokers\n",
    "    def percentage_smokers_male(self):\n",
    "        total_males = 0\n",
    "        total_smokers_male = 0\n",
    "        for entry in self.dicts:\n",
    "            if entry['sex'] == 'male':\n",
    "                total_males += 1\n",
    "                if entry['smoker'] == 'yes':\n",
    "                    total_smokers_male += 1\n",
    "        percentage = round(total_smokers_male / total_males, 4) * 100\n",
    "        print('Male patients who are smokers: {percentage} %'.format(percentage=percentage))\n",
    "        \n",
    "    # average cost for all patients who smoke and have no children\n",
    "    def avg_cost_smoker_nochildren(self):\n",
    "        total_costs = 0\n",
    "        total_smokers_nochildren = 0\n",
    "        for entry in self.dicts:\n",
    "            if entry['smoker'] == 'yes' and entry['children'] == '0':\n",
    "                total_smokers_nochildren += 1\n",
    "                total_costs += float(entry['charges'])\n",
    "        average_cost = round(total_costs / total_smokers_nochildren, 2)\n",
    "        print('Average cost for patients with no children who smoke: ${cost}'.format(cost=average_cost))\n",
    "        \n",
    "    # average cost for all patients who do not smoke and have no children\n",
    "    def avg_cost_nonsmoker_nochildren(self):\n",
    "        total_costs = 0\n",
    "        total_nonsmokers_nochildren = 0\n",
    "        for entry in self.dicts:\n",
    "            if entry['smoker'] == 'no' and entry['children'] == '0':\n",
    "                total_nonsmokers_nochildren += 1\n",
    "                total_costs += float(entry['charges'])\n",
    "        average_cost = round(total_costs / total_nonsmokers_nochildren, 2)\n",
    "        print('Average cost for patients with no children who do NOT smoke: ${cost}'.format(cost=average_cost))\n",
    "    \n",
    "    # average bmi for male patients\n",
    "    def avg_bmi_male(self):\n",
    "        total_bmis = 0\n",
    "        total_patients = 0\n",
    "        for entry in self.dicts:\n",
    "            if entry['sex'] == 'male':\n",
    "                total_bmis += float(entry['bmi'])\n",
    "                total_patients += 1\n",
    "        average_bmi = round(total_bmis / total_patients, 2)\n",
    "        print('Average BMI for male patients: {bmi}'.format(bmi=average_bmi))\n",
    "        \n",
    "    \n",
    "    # average bmi for female patients with no children\n",
    "    def avg_bmi_female_nochildren(self):\n",
    "        total_bmis = 0\n",
    "        total_patients = 0\n",
    "        for entry in self.dicts:\n",
    "            if entry['sex'] == 'female' and entry['children'] == '0':\n",
    "                total_bmis += float(entry['bmi'])\n",
    "                total_patients += 1\n",
    "        average_bmi = round(total_bmis / total_patients, 2)\n",
    "        print('Average BMI for female patients with no children: {bmi}'.format(bmi=average_bmi))\n",
    "        \n",
    "    # average bmi for female patients with at least one child\n",
    "    def avg_bmi_female_withchildren(self):\n",
    "        total_bmis = 0\n",
    "        total_patients = 0\n",
    "        for entry in self.dicts:\n",
    "            if entry['sex'] == 'female' and int(entry['children']) > 0:\n",
    "                total_bmis += float(entry['bmi'])\n",
    "                total_patients += 1\n",
    "        average_bmi = round(total_bmis / total_patients, 2)\n",
    "        print('Average BMI for female patients with children: {bmi}'.format(bmi=average_bmi))\n",
    "        "
   ]
  },
  {
   "cell_type": "markdown",
   "metadata": {},
   "source": [
    "Implemet all the methods:"
   ]
  },
  {
   "cell_type": "code",
   "execution_count": 29,
   "metadata": {
    "scrolled": false
   },
   "outputs": [
    {
     "name": "stdout",
     "output_type": "stream",
     "text": [
      "Average age of all patients: 39.21\n",
      "Average age of female patients: 39.5\n",
      "Average age of male patients: 38.92\n",
      "Most commonly reported region: Southeast\n",
      "Patients who are smokers: 20.48 %\n",
      "Female patients who are smokers: 17.37 %\n",
      "Male patients who are smokers: 23.52 %\n",
      "Average cost for patients with no children who smoke: $31341.36\n",
      "Average cost for patients with no children who do NOT smoke: $7611.79\n",
      "Average BMI for male patients: 30.94\n",
      "Average BMI for female patients with no children: 30.36\n",
      "Average BMI for female patients with children: 30.39\n"
     ]
    }
   ],
   "source": [
    "insurance_data = Insurance()\n",
    "insurance_data.average_age()\n",
    "insurance_data.average_age_female()\n",
    "insurance_data.average_age_male()\n",
    "insurance_data.most_common_region()\n",
    "insurance_data.percentage_smokers()\n",
    "insurance_data.percentage_smokers_female()\n",
    "insurance_data.percentage_smokers_male()\n",
    "insurance_data.avg_cost_smoker_nochildren()\n",
    "insurance_data.avg_cost_nonsmoker_nochildren()\n",
    "insurance_data.avg_bmi_male()\n",
    "insurance_data.avg_bmi_female_nochildren()\n",
    "insurance_data.avg_bmi_female_withchildren()"
   ]
  }
 ],
 "metadata": {
  "kernelspec": {
   "display_name": "Python 3",
   "language": "python",
   "name": "python3"
  },
  "language_info": {
   "codemirror_mode": {
    "name": "ipython",
    "version": 3
   },
   "file_extension": ".py",
   "mimetype": "text/x-python",
   "name": "python",
   "nbconvert_exporter": "python",
   "pygments_lexer": "ipython3",
   "version": "3.7.3"
  }
 },
 "nbformat": 4,
 "nbformat_minor": 4
}
